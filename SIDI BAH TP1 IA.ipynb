{
 "cells": [
  {
   "cell_type": "markdown",
   "id": "e513ecba",
   "metadata": {
    "scrolled": true
   },
   "source": [
    "## Exercice 1:\n"
   ]
  },
  {
   "cell_type": "code",
   "execution_count": 3,
   "id": "9addf12d",
   "metadata": {},
   "outputs": [],
   "source": [
    "#Version procédural\n",
    "import math\n",
    "def f(x):\n",
    "    return x/(x**2 + 1)\n",
    "def g(x):\n",
    "    return math.atan(x)\n",
    "def calcul(N):\n",
    "    L=list(range(-N,N+1))\n",
    "    print(L)\n",
    "    return sum([pow(( (x/(x**2 + 1)) - (math.atan(x)) ), 2) for x in L])"
   ]
  },
  {
   "cell_type": "code",
   "execution_count": 4,
   "id": "7535d6b8",
   "metadata": {},
   "outputs": [
    {
     "name": "stdout",
     "output_type": "stream",
     "text": [
      "[-1, 0, 1]\n"
     ]
    },
    {
     "data": {
      "text/plain": [
       "0.16290422334127316"
      ]
     },
     "execution_count": 4,
     "metadata": {},
     "output_type": "execute_result"
    }
   ],
   "source": [
    "calcul(1)"
   ]
  },
  {
   "cell_type": "code",
   "execution_count": 8,
   "id": "065b086a",
   "metadata": {
    "scrolled": true
   },
   "outputs": [],
   "source": [
    "#Version POO\n",
    "import math\n",
    "class Resolution:\n",
    "    def __init__(self, N):\n",
    "        self.N=N\n",
    "        self.L=list(range(-self.N, self.N+1))\n",
    "        \n",
    "    def f(self, x):\n",
    "        return x/(x**2 + 1)\n",
    "    \n",
    "    def g(self, x):\n",
    "        return math.atan(x)\n",
    "    \n",
    "    def liste(N):\n",
    "        L=list(range(-N,N+1))\n",
    "        return L\n",
    "    \n",
    "    def calcul_R(self):\n",
    "        print(self.L)\n",
    "        return sum([pow(( (x/(x**2 + 1)) - (math.atan(x)) ), 2) for x in self.L])\n"
   ]
  },
  {
   "cell_type": "code",
   "execution_count": 9,
   "id": "1c3b286a",
   "metadata": {},
   "outputs": [],
   "source": [
    "p = Resolution(1)"
   ]
  },
  {
   "cell_type": "code",
   "execution_count": 10,
   "id": "98162b6a",
   "metadata": {},
   "outputs": [
    {
     "name": "stdout",
     "output_type": "stream",
     "text": [
      "[-1, 0, 1]\n"
     ]
    },
    {
     "data": {
      "text/plain": [
       "0.16290422334127316"
      ]
     },
     "execution_count": 10,
     "metadata": {},
     "output_type": "execute_result"
    }
   ],
   "source": [
    "p.calcul_R()"
   ]
  },
  {
   "cell_type": "markdown",
   "id": "1e061fd6",
   "metadata": {},
   "source": [
    "## Exercice 2 :"
   ]
  },
  {
   "cell_type": "code",
   "execution_count": 27,
   "id": "6fa542d0",
   "metadata": {},
   "outputs": [
    {
     "name": "stdout",
     "output_type": "stream",
     "text": [
      "La liste principale D est :  [[7, 9], [6, 1]]\n",
      "La liste des minimums D est :  [7, 1]\n",
      "La liste des maximums D est :  [9, 6]\n",
      "Le minimum global D est :  1\n",
      "Le maximum global D est :  9\n",
      "La liste D' = f(D) est :  [485, 967, 319, -1]\n"
     ]
    }
   ],
   "source": [
    "# importation des packages\n",
    "import random\n",
    "import math\n",
    "# Créer D avec des valeurs aléatoires\n",
    "D=[]\n",
    "ans=[]\n",
    "def liste(n,s): \n",
    "    for i in range(n):\n",
    "        L=[random.randint(0,9) for x in range(s)]\n",
    "        D.append(L)\n",
    "    return D\n",
    "print(\"La liste principale D est : \" ,liste(2,2))\n",
    "#Déterminer le min et le max de chacune des listes composants D \n",
    "def listMin(D):\n",
    "        minList = []\n",
    "        for L in D:\n",
    "            minValue = L[0]\n",
    "            for x in L[1:]:\n",
    "                if x < minValue:\n",
    "                    minValue = x\n",
    "            minList.append(minValue)\n",
    "        return minList\n",
    "    \n",
    "print(\"La liste des minimums D est : \" ,listMin(D))\n",
    "def listMax(D):\n",
    "        maxList = []\n",
    "        for L in D:\n",
    "            maxValue = L[0]\n",
    "            for x in L[1:]:\n",
    "                if x > maxValue:\n",
    "                    maxValue = x\n",
    "            maxList.append(maxValue)\n",
    "        return maxList\n",
    "print(\"La liste des maximums D est : \" ,listMax(D))\n",
    "#Trouver le min global et le max global de D\n",
    "def minGlobal(D):\n",
    "        for L in D:\n",
    "            miValue = L[0]\n",
    "            for x in L[1:]:\n",
    "                if x < miValue:\n",
    "                    miValue = x\n",
    "        return miValue\n",
    "print(\"Le minimum global D est : \" ,minGlobal(D))   \n",
    "def maxGlobal(D):\n",
    "    for L in D:\n",
    "        maValue = L[0]\n",
    "        for x in L[1:]:\n",
    "            if x > maValue:\n",
    "                maValue = x\n",
    "        return maValue\n",
    "print(\"Le maximum global D est : \" ,maxGlobal(D)) \n",
    "#Calculer D’ = f(D), c’est-à-dire f appliquée à tous les éléments de D\n",
    "def fonction():\n",
    "    \n",
    "    return x**3 + 3*(x**2) - 5\n",
    "\n",
    "def calcul_D(D):  \n",
    "    for i in D:\n",
    "        \n",
    "        for j in i:\n",
    "            \n",
    "            t = j\n",
    "            ans.append(f(t))\n",
    "    return ans\n",
    "        \n",
    "print(\"La liste D' = f(D) est : \" ,calcul_D(D))"
   ]
  },
  {
   "cell_type": "code",
   "execution_count": 71,
   "id": "8b742cbc",
   "metadata": {},
   "outputs": [],
   "source": [
    "#importation des packages\n",
    "from ast import FunctionDef\n",
    "from pstats import FunctionProfile\n",
    "import random\n",
    "#class DataTrans\n",
    "class DataTrans:\n",
    "    def __init__(self, n, s):\n",
    "        self.n = n\n",
    "        self.s = s\n",
    "        \n",
    "    \n",
    "    def liste(self):\n",
    "        D=[]\n",
    "        for x in range(self.n):\n",
    "            l=[random.randint(0,100) for x in range(self.s)]\n",
    "            D.append(l)\n",
    "        return D\n",
    "\n",
    "    def listMin(self, d):\n",
    "        minList = []\n",
    "        for l in d:\n",
    "            minValue = l[0]\n",
    "            for x in l[1:]:\n",
    "                if x < minValue:\n",
    "                    minValue = x\n",
    "            minList.append(minValue)\n",
    "        return minList\n",
    "\n",
    "    def listMax(self, g):\n",
    "        maxList = []\n",
    "        for k in g:\n",
    "            maxValue = k[0]\n",
    "            for x in k[1:]:\n",
    "                if x > maxValue:\n",
    "                    maxValue = x\n",
    "            maxList.append(maxValue)\n",
    "        return maxList\n",
    "\n",
    "    def minGlobal(self, v):\n",
    "        for i in v:\n",
    "            miValue = v[0]\n",
    "            for x in v[1:]:\n",
    "                if x < miValue:\n",
    "                    miValue = x\n",
    "            return miValue\n",
    "    \n",
    "    def maxGlobal(self, p):\n",
    "        for i in p:\n",
    "            maValue = p[0]\n",
    "            for x in p[1:]:\n",
    "                if x > maValue:\n",
    "                    maValue = x\n",
    "            return maValue\n",
    "\n",
    "    def fonction(self, x):\n",
    "        return x**3 + 3*(x**2) - 5\n",
    "\n",
    "    def calcul_D(self):\n",
    "    \n",
    "        ans = []\n",
    "        for i in D:\n",
    "            for j in i:\n",
    "                t = j\n",
    "                ans.append(fonction(t))\n",
    "        return ans\n",
    "            \n",
    "    "
   ]
  },
  {
   "cell_type": "code",
   "execution_count": 78,
   "id": "d7fc92ac",
   "metadata": {},
   "outputs": [],
   "source": [
    "r = DataTrans(2,3)"
   ]
  },
  {
   "cell_type": "code",
   "execution_count": 79,
   "id": "736a518b",
   "metadata": {},
   "outputs": [
    {
     "data": {
      "text/plain": [
       "[[20, 58, 73], [22, 13, 63]]"
      ]
     },
     "execution_count": 79,
     "metadata": {},
     "output_type": "execute_result"
    }
   ],
   "source": [
    "r.liste()"
   ]
  },
  {
   "cell_type": "markdown",
   "id": "785f1131",
   "metadata": {},
   "source": [
    "## Exercice 3:\n"
   ]
  },
  {
   "cell_type": "code",
   "execution_count": 5,
   "id": "ae52b0e3",
   "metadata": {},
   "outputs": [
    {
     "name": "stdout",
     "output_type": "stream",
     "text": [
      "Bienvenue sur nôtre application console :\n",
      "Veuillez choisir entre calculer R ou D :\n",
      "Saisissez R ou D : R\n",
      "Il suffit juste de mettre la fonction calcul_R(x)\n",
      "[-2, -1, 0, 1, 2]\n",
      "1.1630228414969253\n"
     ]
    }
   ],
   "source": [
    "print(\"Bienvenue sur nôtre application console :\")\n",
    "print(\"Veuillez choisir entre calculer R ou D :\")\n",
    "n = input(\"Saisissez R ou D : \")\n",
    "if n== 'R' :\n",
    "    print(\"Il suffit juste de mettre la fonction calcul_R(x)\")\n",
    "    # x un entier naturel de la fonction calcul()\n",
    "    #Exemple\n",
    "    print(calcul(2))\n",
    "else:\n",
    "    print(\"Il suffit juste de suivre les conditions de la fonction calcul_D(x)\")"
   ]
  },
  {
   "cell_type": "markdown",
   "id": "ee28f417",
   "metadata": {},
   "source": [
    "## Exercice 4:\n"
   ]
  },
  {
   "cell_type": "code",
   "execution_count": 63,
   "id": "18711d14",
   "metadata": {},
   "outputs": [
    {
     "name": "stdout",
     "output_type": "stream",
     "text": [
      "[13, 77, 7, 87, 86, 74, 92, 31, 61, 65, 92, 91, 95, 76, 23, 20, 52, 100, 82, 75, 41, 71, 44, 91, 86, 61, 28, 20, 73, 6, 85, 73, 13, 36, 74, 21, 65, 50, 52, 45, 63, 15, 36, 21, 57, 10, 54, 5, 82, 70, 73, 1, 66, 40, 28, 36, 54, 28, 45, 72, 53, 90, 79, 4, 75, 29, 89, 43, 12, 36, 0, 65, 85, 13, 71, 22, 64, 52, 45, 47, 79, 50, 33, 91, 67, 33, 18, 2, 49, 60, 89, 95, 98, 84, 19, 65, 46, 76, 94, 66]\n",
      "La moyenne est :  53.78\n",
      "L'écart type est : 28.05 \n",
      "La mediane est :  55.5\n",
      "La variance est : 786.87\n"
     ]
    }
   ],
   "source": [
    "#importation des packages\n",
    "import random\n",
    "import numpy\n",
    "from math import sqrt\n",
    "#Générer aléatoirement les valeurs de L\n",
    "r = [random.randint(0,100) for x in range(100)]\n",
    "print(r)\n",
    "#Calculer : la moyenne, la médiane, la variance et l’écart type.\n",
    "mean = numpy.mean(r)\n",
    "median = numpy.median(r)\n",
    "var = numpy.var(r)\n",
    "sd = numpy.sqrt(var)\n",
    "print(\"La moyenne est : \" ,mean)\n",
    "print(f\"L'écart type est : {sd:.2f} \")\n",
    "print(\"La mediane est : \" ,median)\n",
    "print(f\"La variance est : {var:.2f}\")"
   ]
  }
 ],
 "metadata": {
  "kernelspec": {
   "display_name": "Python 3 (ipykernel)",
   "language": "python",
   "name": "python3"
  },
  "language_info": {
   "codemirror_mode": {
    "name": "ipython",
    "version": 3
   },
   "file_extension": ".py",
   "mimetype": "text/x-python",
   "name": "python",
   "nbconvert_exporter": "python",
   "pygments_lexer": "ipython3",
   "version": "3.9.7"
  }
 },
 "nbformat": 4,
 "nbformat_minor": 5
}
