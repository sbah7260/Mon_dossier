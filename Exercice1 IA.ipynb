{
 "cells": [
  {
   "cell_type": "code",
   "execution_count": 4,
   "id": "74b439e3",
   "metadata": {},
   "outputs": [
    {
     "data": {
      "text/plain": [
       "[4, 6, 8]"
      ]
     },
     "execution_count": 4,
     "metadata": {},
     "output_type": "execute_result"
    }
   ],
   "source": [
    "a=[2,3,4]\n",
    "[q*2 for q in a]"
   ]
  },
  {
   "cell_type": "markdown",
   "id": "7cfefb0b",
   "metadata": {},
   "source": [
    "## 1. Les vecteurs, les tableaux 1D\n",
    "### Initialisation vectorielle"
   ]
  },
  {
   "cell_type": "markdown",
   "id": "b656aa22",
   "metadata": {},
   "source": [
    "# Une façon de créer un tableau NumPy consiste à convertir une liste Python.\n",
    "# Le type sera automatiquement déduit des types d'éléments de la liste"
   ]
  },
  {
   "cell_type": "code",
   "execution_count": 23,
   "id": "aeaee5b7",
   "metadata": {},
   "outputs": [
    {
     "data": {
      "text/plain": [
       "array([ 7,  8, 10])"
      ]
     },
     "execution_count": 23,
     "metadata": {},
     "output_type": "execute_result"
    }
   ],
   "source": [
    "import numpy as np\n",
    "a=np.array([5,6,8])\n",
    "a+2"
   ]
  },
  {
   "cell_type": "code",
   "execution_count": 24,
   "id": "15a3f564",
   "metadata": {},
   "outputs": [
    {
     "data": {
      "text/plain": [
       "[10]"
      ]
     },
     "execution_count": 24,
     "metadata": {},
     "output_type": "execute_result"
    }
   ],
   "source": [
    "a=[2,4,6]\n",
    "b=[8]\n",
    "[q+r for q,r in zip(a,b)]"
   ]
  },
  {
   "cell_type": "code",
   "execution_count": 13,
   "id": "2a374569",
   "metadata": {},
   "outputs": [
    {
     "data": {
      "text/plain": [
       "array([ 7,  8, 10])"
      ]
     },
     "execution_count": 13,
     "metadata": {},
     "output_type": "execute_result"
    }
   ],
   "source": [
    "c=np.array([5,6,8])\n",
    "d=np.array([2])\n",
    "c+d"
   ]
  },
  {
   "cell_type": "code",
   "execution_count": 29,
   "id": "9bf6ccb5",
   "metadata": {},
   "outputs": [
    {
     "data": {
      "text/plain": [
       "array([2., 9., 6.])"
      ]
     },
     "execution_count": 29,
     "metadata": {},
     "output_type": "execute_result"
    }
   ],
   "source": [
    "a=np.array([2.,9.,6.])\n",
    "a"
   ]
  },
  {
   "cell_type": "code",
   "execution_count": 14,
   "id": "3dcdd41e",
   "metadata": {},
   "outputs": [
    {
     "data": {
      "text/plain": [
       "array([3, 4, 6])"
      ]
     },
     "execution_count": 14,
     "metadata": {},
     "output_type": "execute_result"
    }
   ],
   "source": [
    "c=np.array([5,6,8])\n",
    "d=np.array([2])\n",
    "c-d"
   ]
  },
  {
   "cell_type": "code",
   "execution_count": 15,
   "id": "5aff4d5f",
   "metadata": {},
   "outputs": [
    {
     "data": {
      "text/plain": [
       "array([2, 3, 4], dtype=int32)"
      ]
     },
     "execution_count": 15,
     "metadata": {},
     "output_type": "execute_result"
    }
   ],
   "source": [
    "c=np.array([5,6,8])\n",
    "d=np.array([2])\n",
    "c//d"
   ]
  },
  {
   "cell_type": "code",
   "execution_count": 16,
   "id": "7d855e11",
   "metadata": {},
   "outputs": [
    {
     "data": {
      "text/plain": [
       "array([10, 12, 16])"
      ]
     },
     "execution_count": 16,
     "metadata": {},
     "output_type": "execute_result"
    }
   ],
   "source": [
    "c=np.array([5,6,8])\n",
    "d=np.array([2])\n",
    "c*d"
   ]
  },
  {
   "cell_type": "code",
   "execution_count": 12,
   "id": "6f7ae3b9",
   "metadata": {},
   "outputs": [
    {
     "data": {
      "text/plain": [
       "array([5, 6, 8])"
      ]
     },
     "execution_count": 12,
     "metadata": {},
     "output_type": "execute_result"
    }
   ],
   "source": [
    "a=np.array([5,6,8])\n",
    "a"
   ]
  },
  {
   "cell_type": "code",
   "execution_count": 19,
   "id": "ff9bad52",
   "metadata": {},
   "outputs": [
    {
     "data": {
      "text/plain": [
       "array(['sd', 'gh', '2', '5'], dtype='<U11')"
      ]
     },
     "execution_count": 19,
     "metadata": {},
     "output_type": "execute_result"
    }
   ],
   "source": [
    "c=np.array(['sd','gh',2,5])\n",
    "c"
   ]
  },
  {
   "cell_type": "code",
   "execution_count": 52,
   "id": "f2dd8f3d",
   "metadata": {},
   "outputs": [
    {
     "data": {
      "text/plain": [
       "array([2, 5, 3])"
      ]
     },
     "execution_count": 52,
     "metadata": {},
     "output_type": "execute_result"
    }
   ],
   "source": [
    "a=np.array([2,5,3])\n",
    "a"
   ]
  },
  {
   "cell_type": "code",
   "execution_count": 53,
   "id": "0011e600",
   "metadata": {},
   "outputs": [
    {
     "data": {
      "text/plain": [
       "array([0, 0, 0])"
      ]
     },
     "execution_count": 53,
     "metadata": {},
     "output_type": "execute_result"
    }
   ],
   "source": [
    "b=np.zeros(3,int)\n",
    "b"
   ]
  },
  {
   "cell_type": "code",
   "execution_count": 54,
   "id": "f9ffc176",
   "metadata": {},
   "outputs": [
    {
     "data": {
      "text/plain": [
       "array([0, 0, 0])"
      ]
     },
     "execution_count": 54,
     "metadata": {},
     "output_type": "execute_result"
    }
   ],
   "source": [
    "c=np.zeros_like(a)\n",
    "c"
   ]
  },
  {
   "cell_type": "code",
   "execution_count": 57,
   "id": "4c48a6be",
   "metadata": {},
   "outputs": [
    {
     "data": {
      "text/plain": [
       "array([0., 0., 0.])"
      ]
     },
     "execution_count": 57,
     "metadata": {},
     "output_type": "execute_result"
    }
   ],
   "source": [
    "np.zeros(3)"
   ]
  },
  {
   "cell_type": "code",
   "execution_count": 75,
   "id": "0b023fc5",
   "metadata": {},
   "outputs": [
    {
     "data": {
      "text/plain": [
       "array([1., 1., 1., 1., 1.])"
      ]
     },
     "execution_count": 75,
     "metadata": {},
     "output_type": "execute_result"
    }
   ],
   "source": [
    "np.ones(5)"
   ]
  },
  {
   "cell_type": "code",
   "execution_count": 83,
   "id": "7562fc26",
   "metadata": {},
   "outputs": [
    {
     "data": {
      "text/plain": [
       "array([1., 1., 1., 1., 1.])"
      ]
     },
     "execution_count": 83,
     "metadata": {},
     "output_type": "execute_result"
    }
   ],
   "source": [
    "np.empty(5)"
   ]
  },
  {
   "cell_type": "code",
   "execution_count": 90,
   "id": "521c506a",
   "metadata": {},
   "outputs": [
    {
     "data": {
      "text/plain": [
       "array([7., 7., 7.])"
      ]
     },
     "execution_count": 90,
     "metadata": {},
     "output_type": "execute_result"
    }
   ],
   "source": [
    "np.full(3,7.)"
   ]
  },
  {
   "cell_type": "code",
   "execution_count": 115,
   "id": "facfa01a",
   "metadata": {},
   "outputs": [
    {
     "data": {
      "text/plain": [
       "array([1, 2, 3, 6])"
      ]
     },
     "execution_count": 115,
     "metadata": {},
     "output_type": "execute_result"
    }
   ],
   "source": [
    "m=np.array([1,2,3,6])\n",
    "m"
   ]
  },
  {
   "cell_type": "code",
   "execution_count": 116,
   "id": "ec3e4798",
   "metadata": {},
   "outputs": [
    {
     "data": {
      "text/plain": [
       "array([0, 0, 0, 0])"
      ]
     },
     "execution_count": 116,
     "metadata": {},
     "output_type": "execute_result"
    }
   ],
   "source": [
    "np.zeros_like(m)"
   ]
  },
  {
   "cell_type": "code",
   "execution_count": 117,
   "id": "3d3a202b",
   "metadata": {},
   "outputs": [
    {
     "data": {
      "text/plain": [
       "array([1, 1, 1, 1])"
      ]
     },
     "execution_count": 117,
     "metadata": {},
     "output_type": "execute_result"
    }
   ],
   "source": [
    "np.ones_like(m)"
   ]
  },
  {
   "cell_type": "code",
   "execution_count": 118,
   "id": "de94a2a8",
   "metadata": {},
   "outputs": [
    {
     "data": {
      "text/plain": [
       "array([24379518, 27459700,   -65401,   -65509])"
      ]
     },
     "execution_count": 118,
     "metadata": {},
     "output_type": "execute_result"
    }
   ],
   "source": [
    "np.empty_like(m)"
   ]
  },
  {
   "cell_type": "code",
   "execution_count": 119,
   "id": "f7a217f3",
   "metadata": {},
   "outputs": [
    {
     "data": {
      "text/plain": [
       "array([6, 6, 6, 6])"
      ]
     },
     "execution_count": 119,
     "metadata": {},
     "output_type": "execute_result"
    }
   ],
   "source": [
    "np.full_like(m,6)"
   ]
  },
  {
   "cell_type": "code",
   "execution_count": 120,
   "id": "fe95eb7c",
   "metadata": {},
   "outputs": [
    {
     "data": {
      "text/plain": [
       "array([1, 2, 3, 6])"
      ]
     },
     "execution_count": 120,
     "metadata": {},
     "output_type": "execute_result"
    }
   ],
   "source": [
    "m=np.array([1,2,3,6])\n",
    "m"
   ]
  },
  {
   "cell_type": "code",
   "execution_count": 128,
   "id": "8ed65a59",
   "metadata": {},
   "outputs": [
    {
     "data": {
      "text/plain": [
       "3"
      ]
     },
     "execution_count": 128,
     "metadata": {},
     "output_type": "execute_result"
    }
   ],
   "source": [
    "m[2]"
   ]
  },
  {
   "cell_type": "code",
   "execution_count": 129,
   "id": "c4516ac7",
   "metadata": {},
   "outputs": [
    {
     "data": {
      "text/plain": [
       "array([0, 1, 2, 3, 4, 5, 6])"
      ]
     },
     "execution_count": 129,
     "metadata": {},
     "output_type": "execute_result"
    }
   ],
   "source": [
    "np.arange(7)"
   ]
  },
  {
   "cell_type": "code",
   "execution_count": 130,
   "id": "b2eb8e32",
   "metadata": {},
   "outputs": [
    {
     "data": {
      "text/plain": [
       "array([7, 8])"
      ]
     },
     "execution_count": 130,
     "metadata": {},
     "output_type": "execute_result"
    }
   ],
   "source": [
    "np.arange(7,9)"
   ]
  },
  {
   "cell_type": "code",
   "execution_count": 132,
   "id": "6a836074",
   "metadata": {},
   "outputs": [
    {
     "data": {
      "text/plain": [
       "array([ 1,  8, 15])"
      ]
     },
     "execution_count": 132,
     "metadata": {},
     "output_type": "execute_result"
    }
   ],
   "source": [
    "e=np.arange(1,19,7)\n",
    "e"
   ]
  },
  {
   "cell_type": "code",
   "execution_count": 133,
   "id": "d7937097",
   "metadata": {},
   "outputs": [
    {
     "data": {
      "text/plain": [
       "numpy.ndarray"
      ]
     },
     "execution_count": 133,
     "metadata": {},
     "output_type": "execute_result"
    }
   ],
   "source": [
    "type(e)"
   ]
  },
  {
   "cell_type": "code",
   "execution_count": 161,
   "id": "be629563",
   "metadata": {},
   "outputs": [
    {
     "data": {
      "text/plain": [
       "array([1., 2., 3., 4., 5.])"
      ]
     },
     "execution_count": 161,
     "metadata": {},
     "output_type": "execute_result"
    }
   ],
   "source": [
    "np.linspace(1,5,5)"
   ]
  },
  {
   "cell_type": "code",
   "execution_count": 169,
   "id": "76d3c8bb",
   "metadata": {},
   "outputs": [
    {
     "data": {
      "text/plain": [
       "array([8, 7, 8, 7])"
      ]
     },
     "execution_count": 169,
     "metadata": {},
     "output_type": "execute_result"
    }
   ],
   "source": [
    "np.random.randint(5,9,4)"
   ]
  },
  {
   "cell_type": "code",
   "execution_count": 180,
   "id": "4efa4974",
   "metadata": {},
   "outputs": [
    {
     "data": {
      "text/plain": [
       "array([0.34402918])"
      ]
     },
     "execution_count": 180,
     "metadata": {},
     "output_type": "execute_result"
    }
   ],
   "source": [
    "np.random.rand(1)"
   ]
  },
  {
   "cell_type": "code",
   "execution_count": 184,
   "id": "fd66b999",
   "metadata": {},
   "outputs": [
    {
     "data": {
      "text/plain": [
       "array([7.95955091, 6.11538596])"
      ]
     },
     "execution_count": 184,
     "metadata": {},
     "output_type": "execute_result"
    }
   ],
   "source": [
    "np.random.uniform(1,10,2)"
   ]
  },
  {
   "cell_type": "code",
   "execution_count": 185,
   "id": "7bdf2c5c",
   "metadata": {},
   "outputs": [
    {
     "data": {
      "text/plain": [
       "array([2.59058389])"
      ]
     },
     "execution_count": 185,
     "metadata": {},
     "output_type": "execute_result"
    }
   ],
   "source": [
    "np.random.randn(1)"
   ]
  },
  {
   "cell_type": "code",
   "execution_count": 189,
   "id": "1b48f76e",
   "metadata": {},
   "outputs": [],
   "source": [
    "rng = np.random.default_rng()"
   ]
  },
  {
   "cell_type": "code",
   "execution_count": 190,
   "id": "e2090fab",
   "metadata": {},
   "outputs": [
    {
     "data": {
      "text/plain": [
       "array([4, 9, 5], dtype=int64)"
      ]
     },
     "execution_count": 190,
     "metadata": {},
     "output_type": "execute_result"
    }
   ],
   "source": [
    "rng.integers(0,10,3)"
   ]
  },
  {
   "cell_type": "code",
   "execution_count": 194,
   "id": "a4e6f6de",
   "metadata": {},
   "outputs": [
    {
     "data": {
      "text/plain": [
       "array([0.75960658, 0.12141878, 0.28099223, 0.4578737 ])"
      ]
     },
     "execution_count": 194,
     "metadata": {},
     "output_type": "execute_result"
    }
   ],
   "source": [
    "rng.random(4)"
   ]
  },
  {
   "cell_type": "code",
   "execution_count": 195,
   "id": "a5d544ca",
   "metadata": {},
   "outputs": [
    {
     "data": {
      "text/plain": [
       "array([3.61343012, 3.77404859, 6.99137513])"
      ]
     },
     "execution_count": 195,
     "metadata": {},
     "output_type": "execute_result"
    }
   ],
   "source": [
    "rng.uniform(1,10,3)"
   ]
  },
  {
   "cell_type": "code",
   "execution_count": 197,
   "id": "fb5cae91",
   "metadata": {},
   "outputs": [
    {
     "data": {
      "text/plain": [
       "array([5.84938612, 3.67119153, 6.22829048])"
      ]
     },
     "execution_count": 197,
     "metadata": {},
     "output_type": "execute_result"
    }
   ],
   "source": [
    "rng.normal(5,2,3)"
   ]
  },
  {
   "cell_type": "markdown",
   "id": "70d710a4",
   "metadata": {},
   "source": [
    "## Indexation vectorielle"
   ]
  },
  {
   "cell_type": "code",
   "execution_count": 3,
   "id": "f16a6c9b",
   "metadata": {},
   "outputs": [
    {
     "data": {
      "text/plain": [
       "array([1, 2, 3, 4, 5])"
      ]
     },
     "execution_count": 3,
     "metadata": {},
     "output_type": "execute_result"
    }
   ],
   "source": [
    "import numpy as np\n",
    "a=np.arange(1,6)\n",
    "a"
   ]
  },
  {
   "cell_type": "code",
   "execution_count": 4,
   "id": "bdd0d54a",
   "metadata": {},
   "outputs": [
    {
     "data": {
      "text/plain": [
       "2"
      ]
     },
     "execution_count": 4,
     "metadata": {},
     "output_type": "execute_result"
    }
   ],
   "source": [
    "a[1]"
   ]
  },
  {
   "cell_type": "code",
   "execution_count": 5,
   "id": "64bca0c3",
   "metadata": {},
   "outputs": [
    {
     "data": {
      "text/plain": [
       "array([1, 2, 3])"
      ]
     },
     "execution_count": 5,
     "metadata": {},
     "output_type": "execute_result"
    }
   ],
   "source": [
    "a[0:3]"
   ]
  },
  {
   "cell_type": "code",
   "execution_count": 8,
   "id": "4392bb90",
   "metadata": {},
   "outputs": [
    {
     "data": {
      "text/plain": [
       "array([3, 4, 5])"
      ]
     },
     "execution_count": 8,
     "metadata": {},
     "output_type": "execute_result"
    }
   ],
   "source": [
    "a[-3::]"
   ]
  },
  {
   "cell_type": "code",
   "execution_count": 13,
   "id": "c39bf9bc",
   "metadata": {},
   "outputs": [
    {
     "data": {
      "text/plain": [
       "array([5, 4, 3, 2, 1])"
      ]
     },
     "execution_count": 13,
     "metadata": {},
     "output_type": "execute_result"
    }
   ],
   "source": [
    "a[::-1]"
   ]
  },
  {
   "cell_type": "code",
   "execution_count": 254,
   "id": "27e209d9",
   "metadata": {},
   "outputs": [
    {
     "data": {
      "text/plain": [
       "array([1, 3, 5])"
      ]
     },
     "execution_count": 254,
     "metadata": {},
     "output_type": "execute_result"
    }
   ],
   "source": [
    "a[::2]"
   ]
  },
  {
   "cell_type": "code",
   "execution_count": 256,
   "id": "fb36046d",
   "metadata": {},
   "outputs": [
    {
     "data": {
      "text/plain": [
       "array([1, 2, 0, 0, 5])"
      ]
     },
     "execution_count": 256,
     "metadata": {},
     "output_type": "execute_result"
    }
   ],
   "source": [
    "a[2:4]=0\n",
    "a"
   ]
  },
  {
   "cell_type": "code",
   "execution_count": 258,
   "id": "9593c5cd",
   "metadata": {},
   "outputs": [
    {
     "data": {
      "text/plain": [
       "array([2, 0, 5])"
      ]
     },
     "execution_count": 258,
     "metadata": {},
     "output_type": "execute_result"
    }
   ],
   "source": [
    "a[[1,3,4]]"
   ]
  },
  {
   "cell_type": "code",
   "execution_count": 260,
   "id": "1e60b175",
   "metadata": {},
   "outputs": [
    {
     "data": {
      "text/plain": [
       "[1, 9, 6, 3]"
      ]
     },
     "execution_count": 260,
     "metadata": {},
     "output_type": "execute_result"
    }
   ],
   "source": [
    "d=[1,2,3]\n",
    "d[1:2] = [9,6]\n",
    "d\n"
   ]
  },
  {
   "cell_type": "code",
   "execution_count": 271,
   "id": "e6698bd7",
   "metadata": {},
   "outputs": [
    {
     "data": {
      "text/plain": [
       "array([1, 2, 5, 4, 6, 7, 8, 5, 4, 2])"
      ]
     },
     "execution_count": 271,
     "metadata": {},
     "output_type": "execute_result"
    }
   ],
   "source": [
    "a=np.array([1,2,5,4,6,7,8,5,4,2])\n",
    "a"
   ]
  },
  {
   "cell_type": "code",
   "execution_count": 272,
   "id": "eda60071",
   "metadata": {},
   "outputs": [
    {
     "data": {
      "text/plain": [
       "array([False, False, False, False,  True,  True,  True, False, False,\n",
       "       False])"
      ]
     },
     "execution_count": 272,
     "metadata": {},
     "output_type": "execute_result"
    }
   ],
   "source": [
    "a > 5"
   ]
  },
  {
   "cell_type": "code",
   "execution_count": 273,
   "id": "3027cb80",
   "metadata": {},
   "outputs": [
    {
     "data": {
      "text/plain": [
       "array([6, 7, 8])"
      ]
     },
     "execution_count": 273,
     "metadata": {},
     "output_type": "execute_result"
    }
   ],
   "source": [
    "a[ a > 5]"
   ]
  },
  {
   "cell_type": "code",
   "execution_count": 274,
   "id": "7852630b",
   "metadata": {},
   "outputs": [
    {
     "data": {
      "text/plain": [
       "True"
      ]
     },
     "execution_count": 274,
     "metadata": {},
     "output_type": "execute_result"
    }
   ],
   "source": [
    "np.any(a>5)"
   ]
  },
  {
   "cell_type": "code",
   "execution_count": 276,
   "id": "dd25a0f4",
   "metadata": {},
   "outputs": [
    {
     "data": {
      "text/plain": [
       "False"
      ]
     },
     "execution_count": 276,
     "metadata": {},
     "output_type": "execute_result"
    }
   ],
   "source": [
    "np.all(a>5)"
   ]
  },
  {
   "cell_type": "code",
   "execution_count": 277,
   "id": "4c2de43d",
   "metadata": {},
   "outputs": [],
   "source": [
    "a[a>5]=0\n"
   ]
  },
  {
   "cell_type": "code",
   "execution_count": 278,
   "id": "009510a9",
   "metadata": {},
   "outputs": [
    {
     "data": {
      "text/plain": [
       "array([1, 2, 5, 4, 0, 0, 0, 5, 4, 2])"
      ]
     },
     "execution_count": 278,
     "metadata": {},
     "output_type": "execute_result"
    }
   ],
   "source": [
    "a"
   ]
  },
  {
   "cell_type": "code",
   "execution_count": 279,
   "id": "9cdb92ec",
   "metadata": {},
   "outputs": [],
   "source": [
    "a[(a>=3) & (a<=5)]=0"
   ]
  },
  {
   "cell_type": "code",
   "execution_count": 280,
   "id": "79fc5957",
   "metadata": {},
   "outputs": [
    {
     "data": {
      "text/plain": [
       "array([1, 2, 0, 0, 0, 0, 0, 0, 0, 2])"
      ]
     },
     "execution_count": 280,
     "metadata": {},
     "output_type": "execute_result"
    }
   ],
   "source": [
    "a"
   ]
  },
  {
   "cell_type": "markdown",
   "id": "7a2ad6d6",
   "metadata": {},
   "source": [
    "## Opérations vectorielles"
   ]
  },
  {
   "cell_type": "code",
   "execution_count": 282,
   "id": "64e3a633",
   "metadata": {},
   "outputs": [
    {
     "data": {
      "text/plain": [
       "array([-6,  0])"
      ]
     },
     "execution_count": 282,
     "metadata": {},
     "output_type": "execute_result"
    }
   ],
   "source": [
    "a=np.array([2,3])\n",
    "z=np.array([8,3])\n",
    "a-z"
   ]
  },
  {
   "cell_type": "code",
   "execution_count": 283,
   "id": "0f3c4bae",
   "metadata": {},
   "outputs": [
    {
     "data": {
      "text/plain": [
       "array([256,  27], dtype=int32)"
      ]
     },
     "execution_count": 283,
     "metadata": {},
     "output_type": "execute_result"
    }
   ],
   "source": [
    "a**z"
   ]
  },
  {
   "cell_type": "code",
   "execution_count": 284,
   "id": "502d2d70",
   "metadata": {},
   "outputs": [
    {
     "data": {
      "text/plain": [
       "array([-6,  0])"
      ]
     },
     "execution_count": 284,
     "metadata": {},
     "output_type": "execute_result"
    }
   ],
   "source": [
    "a-z"
   ]
  },
  {
   "cell_type": "code",
   "execution_count": 285,
   "id": "12774594",
   "metadata": {},
   "outputs": [
    {
     "data": {
      "text/plain": [
       "array([10,  6])"
      ]
     },
     "execution_count": 285,
     "metadata": {},
     "output_type": "execute_result"
    }
   ],
   "source": [
    "a+z"
   ]
  },
  {
   "cell_type": "code",
   "execution_count": 286,
   "id": "7b2f063b",
   "metadata": {},
   "outputs": [
    {
     "data": {
      "text/plain": [
       "array([0.25, 1.  ])"
      ]
     },
     "execution_count": 286,
     "metadata": {},
     "output_type": "execute_result"
    }
   ],
   "source": [
    "a/z\n"
   ]
  },
  {
   "cell_type": "code",
   "execution_count": 287,
   "id": "701cc2ad",
   "metadata": {},
   "outputs": [
    {
     "data": {
      "text/plain": [
       "array([4, 9], dtype=int32)"
      ]
     },
     "execution_count": 287,
     "metadata": {},
     "output_type": "execute_result"
    }
   ],
   "source": [
    "a**2"
   ]
  },
  {
   "cell_type": "code",
   "execution_count": 289,
   "id": "667d4d71",
   "metadata": {},
   "outputs": [
    {
     "data": {
      "text/plain": [
       "array([2., 3.])"
      ]
     },
     "execution_count": 289,
     "metadata": {},
     "output_type": "execute_result"
    }
   ],
   "source": [
    "np.sqrt(a**2)"
   ]
  },
  {
   "cell_type": "code",
   "execution_count": 290,
   "id": "f32bda8c",
   "metadata": {},
   "outputs": [
    {
     "data": {
      "text/plain": [
       "array([ 7.3890561 , 20.08553692])"
      ]
     },
     "execution_count": 290,
     "metadata": {},
     "output_type": "execute_result"
    }
   ],
   "source": [
    "np.exp(a)"
   ]
  },
  {
   "cell_type": "code",
   "execution_count": 291,
   "id": "ec111ed1",
   "metadata": {},
   "outputs": [
    {
     "data": {
      "text/plain": [
       "array([0.69314718, 1.09861229])"
      ]
     },
     "execution_count": 291,
     "metadata": {},
     "output_type": "execute_result"
    }
   ],
   "source": [
    "np.log(a)"
   ]
  },
  {
   "cell_type": "code",
   "execution_count": 293,
   "id": "f4b8eb77",
   "metadata": {},
   "outputs": [
    {
     "data": {
      "text/plain": [
       "25"
      ]
     },
     "execution_count": 293,
     "metadata": {},
     "output_type": "execute_result"
    }
   ],
   "source": [
    "np.dot(a,z)"
   ]
  },
  {
   "cell_type": "code",
   "execution_count": null,
   "id": "f7e19f4a",
   "metadata": {},
   "outputs": [],
   "source": []
  },
  {
   "cell_type": "code",
   "execution_count": null,
   "id": "513e5920",
   "metadata": {},
   "outputs": [],
   "source": []
  }
 ],
 "metadata": {
  "kernelspec": {
   "display_name": "Python 3 (ipykernel)",
   "language": "python",
   "name": "python3"
  },
  "language_info": {
   "codemirror_mode": {
    "name": "ipython",
    "version": 3
   },
   "file_extension": ".py",
   "mimetype": "text/x-python",
   "name": "python",
   "nbconvert_exporter": "python",
   "pygments_lexer": "ipython3",
   "version": "3.9.7"
  }
 },
 "nbformat": 4,
 "nbformat_minor": 5
}
